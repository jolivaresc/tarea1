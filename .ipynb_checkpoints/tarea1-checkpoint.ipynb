{
 "cells": [
  {
   "cell_type": "code",
   "execution_count": 11,
   "metadata": {
    "collapsed": true,
    "deletable": true,
    "editable": true
   },
   "outputs": [],
   "source": [
    "#from nltk.tokenize import word_tokenize\n",
    "#from collections import Counter\n",
    "import re"
   ]
  },
  {
   "cell_type": "code",
   "execution_count": 12,
   "metadata": {
    "collapsed": true
   },
   "outputs": [],
   "source": [
    "twitter_username_re = re.compile(r'@([A-Za-z0-9_]+)')\n",
    "\n"
   ]
  },
  {
   "cell_type": "code",
   "execution_count": 17,
   "metadata": {
    "collapsed": false
   },
   "outputs": [
    {
     "name": "stdout",
     "output_type": "stream",
     "text": [
      "<_sre.SRE_Match object; span=(0, 15), match='@fgcabezadevaca'>\n"
     ]
    }
   ],
   "source": [
    "print(re.match(twitter_username_re, '@fgcabezadevaca…'))"
   ]
  },
  {
   "cell_type": "code",
   "execution_count": 10,
   "metadata": {
    "collapsed": false,
    "deletable": true,
    "editable": true
   },
   "outputs": [
    {
     "name": "stdout",
     "output_type": "stream",
     "text": [
      "USUARIO revisen este caso donde USUARIO pierde un paquete de USUARIO USUARIO y no ha dado respuesta #estafetaNoCumple es\n",
      "\n",
      "[(0, 'USUARIO'), (1, 'revisen'), (2, 'este'), (3, 'caso'), (4, 'donde'), (5, 'USUARIO'), (6, 'pierde'), (7, 'un'), (8, 'paquete'), (9, 'de'), (10, 'USUARIO'), (11, 'USUARIO'), (12, 'y'), (13, 'no'), (14, 'ha'), (15, 'dado'), (16, 'respuesta'), (17, '#estafetaNoCumple'), (18, 'es\\n')]\n",
      "#cem2017  #Bundesliga Sale a la luz la inexperiencia de Delfina, Lee el articulo y comparte LIGA es\n",
      "\n",
      "[(0, '#cem2017'), (1, ''), (2, '#Bundesliga'), (3, 'Sale'), (4, 'a'), (5, 'la'), (6, 'luz'), (7, 'la'), (8, 'inexperiencia'), (9, 'de'), (10, 'Delfina,'), (11, 'Lee'), (12, 'el'), (13, 'articulo'), (14, 'y'), (15, 'comparte'), (16, 'LIGA'), (17, 'es\\n')]\n",
      "¿Eres pendejo o te haces? Ni siquiera en ese caso tienes derecho a matar a un hombre desarmado y tirado en el piso LIGA es\n",
      "\n",
      "[(0, '¿Eres'), (1, 'pendejo'), (2, 'o'), (3, 'te'), (4, 'haces?'), (5, 'Ni'), (6, 'siquiera'), (7, 'en'), (8, 'ese'), (9, 'caso'), (10, 'tienes'), (11, 'derecho'), (12, 'a'), (13, 'matar'), (14, 'a'), (15, 'un'), (16, 'hombre'), (17, 'desarmado'), (18, 'y'), (19, 'tirado'), (20, 'en'), (21, 'el'), (22, 'piso'), (23, 'LIGA'), (24, 'es\\n')]\n",
      "En el #Foro #Tecnología #Voluntariado y #Fondos para el #Desarrollo representando a #Fundación… LIGA es\n",
      "\n",
      "[(0, 'En'), (1, 'el'), (2, '#Foro'), (3, '#Tecnología'), (4, '#Voluntariado'), (5, 'y'), (6, '#Fondos'), (7, 'para'), (8, 'el'), (9, '#Desarrollo'), (10, 'representando'), (11, 'a'), (12, '#Fundación…'), (13, 'LIGA'), (14, 'es\\n')]\n",
      "Mayo 13 1911. Las fuerzas revolucionarias de Emiliano Zapata inician el ataque y sitio de Cuautla LIGA es\n",
      "\n",
      "[(0, 'Mayo'), (1, '13'), (2, '1911.'), (3, 'Las'), (4, 'fuerzas'), (5, 'revolucionarias'), (6, 'de'), (7, 'Emiliano'), (8, 'Zapata'), (9, 'inician'), (10, 'el'), (11, 'ataque'), (12, 'y'), (13, 'sitio'), (14, 'de'), (15, 'Cuautla'), (16, 'LIGA'), (17, 'es\\n')]\n",
      "Pre festejo del uno USUARIO  gracias caliño mío!! Me encantó la sorpresa #LoveMyFamily 😘😘😘 LIGA es\n",
      "\n",
      "[(0, 'Pre'), (1, 'festejo'), (2, 'del'), (3, 'uno'), (4, 'USUARIO'), (5, ''), (6, 'gracias'), (7, 'caliño'), (8, 'mío!!'), (9, 'Me'), (10, 'encantó'), (11, 'la'), (12, 'sorpresa'), (13, '#LoveMyFamily'), (14, '😘😘😘'), (15, 'LIGA'), (16, 'es\\n')]\n",
      "Hoy hace 14 años murió Antonio González Caballero.- USUARIO A la memoria... LIGA es\n",
      "\n",
      "[(0, 'Hoy'), (1, 'hace'), (2, '14'), (3, 'años'), (4, 'murió'), (5, 'Antonio'), (6, 'González'), (7, 'Caballero.-'), (8, 'USUARIO'), (9, 'A'), (10, 'la'), (11, 'memoria...'), (12, 'LIGA'), (13, 'es\\n')]\n",
      "Tempranillo pa' que salga rápido! 😎 USUARIO Print It! in Ciudad de México) LIGA es\n",
      "\n",
      "[(0, 'Tempranillo'), (1, \"pa'\"), (2, 'que'), (3, 'salga'), (4, 'rápido!'), (5, '😎'), (6, 'USUARIO'), (7, 'Print'), (8, 'It!'), (9, 'in'), (10, 'Ciudad'), (11, 'de'), (12, 'México)'), (13, 'LIGA'), (14, 'es\\n')]\n",
      "#HarryStylesConExa Quiero enserio, quiero verlo por favor, regalenme un boleto. ❤🙇🙇 caracterDeSaltoDeLínea #HarryStylesMexico USUARIO  caracterDeSaltoDeLínea (52)5543207368 es\n",
      "\n",
      "[(0, '#HarryStylesConExa'), (1, 'Quiero'), (2, 'enserio,'), (3, 'quiero'), (4, 'verlo'), (5, 'por'), (6, 'favor,'), (7, 'regalenme'), (8, 'un'), (9, 'boleto.'), (10, '❤🙇🙇'), (11, 'caracterDeSaltoDeLínea'), (12, '#HarryStylesMexico'), (13, 'USUARIO'), (14, ''), (15, 'caracterDeSaltoDeLínea'), (16, '(52)5543207368'), (17, 'es\\n')]\n",
      "I'm at Mega Comercial Mexicana - USUARIO in Benito Juárez, DF LIGA es\n",
      "\n",
      "[(0, \"I'm\"), (1, 'at'), (2, 'Mega'), (3, 'Comercial'), (4, 'Mexicana'), (5, '-'), (6, 'USUARIO'), (7, 'in'), (8, 'Benito'), (9, 'Juárez,'), (10, 'DF'), (11, 'LIGA'), (12, 'es\\n')]\n",
      "Pronóstico de #LluviaQro para la tarde - noche de hoy sabado caracterDeSaltoDeLínea 🌧 caracterDeSaltoDeLínea USUARIO USUARIO USUARIO LIGA es\n",
      "\n",
      "[(0, 'Pronóstico'), (1, 'de'), (2, '#LluviaQro'), (3, 'para'), (4, 'la'), (5, 'tarde'), (6, '-'), (7, 'noche'), (8, 'de'), (9, 'hoy'), (10, 'sabado'), (11, 'caracterDeSaltoDeLínea'), (12, '🌧'), (13, 'caracterDeSaltoDeLínea'), (14, 'USUARIO'), (15, 'USUARIO'), (16, 'USUARIO'), (17, 'LIGA'), (18, 'es\\n')]\n",
      "Cuando mi mamá me ve y no estoy crudo. LIGA es\n",
      "\n",
      "[(0, 'Cuando'), (1, 'mi'), (2, 'mamá'), (3, 'me'), (4, 've'), (5, 'y'), (6, 'no'), (7, 'estoy'), (8, 'crudo.'), (9, 'LIGA'), (10, 'es\\n')]\n",
      "USUARIO Gracias se toma su denuncia así como se realiza la investigación correspondiente de estos hechos... #AsuntosInternos es\n",
      "\n",
      "[(0, 'USUARIO'), (1, 'Gracias'), (2, 'se'), (3, 'toma'), (4, 'su'), (5, 'denuncia'), (6, 'así'), (7, 'como'), (8, 'se'), (9, 'realiza'), (10, 'la'), (11, 'investigación'), (12, 'correspondiente'), (13, 'de'), (14, 'estos'), (15, 'hechos...'), (16, '#AsuntosInternos'), (17, 'es\\n')]\n",
      "A estudiar, a ponernos las pilas LIGA es\n",
      "\n",
      "[(0, 'A'), (1, 'estudiar,'), (2, 'a'), (3, 'ponernos'), (4, 'las'), (5, 'pilas'), (6, 'LIGA'), (7, 'es\\n')]\n",
      "Se reúne Gobernador con titulares de CEAV y Derechos Humanos de la #ONU LIGA USUARIO LIGA es\n",
      "[(0, 'Se'), (1, 'reúne'), (2, 'Gobernador'), (3, 'con'), (4, 'titulares'), (5, 'de'), (6, 'CEAV'), (7, 'y'), (8, 'Derechos'), (9, 'Humanos'), (10, 'de'), (11, 'la'), (12, '#ONU'), (13, 'LIGA'), (14, 'USUARIO'), (15, 'LIGA'), (16, 'es')]\n"
     ]
    }
   ],
   "source": [
    "texto_tmp = \"temp.txt\"\n",
    "texto = ''\n",
    "\n",
    "tweets_limpio = \"new_tweets.txt\"\n",
    "\n",
    "new_tweets = open(tweets_limpio,'a+',encoding='utf-8')\n",
    "\n",
    "with open(texto_tmp,'r', encoding='utf-8') as file:\n",
    "    for line in file:\n",
    "        #print(line)\n",
    "        sentence =line.split(' ')\n",
    "        for token in range(len(sentence)):\n",
    "            if sentence[token].find('@') != -1:\n",
    "                sentence[token] = 'USUARIO'\n",
    "            elif sentence[token].find('http') != -1:\n",
    "                sentence[token] = 'LIGA'\n",
    "                \n",
    "        print(' '.join(sentence))\n",
    "        new_tweets.write(' '.join(sentence))\n",
    "        #tweets.append(list(enumerate(sentence)))\n",
    "        print(list(enumerate(sentence)))        \n",
    "\n",
    "new_tweets.close()\n",
    "    "
   ]
  }
 ],
 "metadata": {
  "kernelspec": {
   "display_name": "Python 3",
   "language": "python",
   "name": "python3"
  },
  "language_info": {
   "codemirror_mode": {
    "name": "ipython",
    "version": 3
   },
   "file_extension": ".py",
   "mimetype": "text/x-python",
   "name": "python",
   "nbconvert_exporter": "python",
   "pygments_lexer": "ipython3",
   "version": "3.5.2+"
  }
 },
 "nbformat": 4,
 "nbformat_minor": 2
}
