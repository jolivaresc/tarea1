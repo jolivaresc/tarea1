{
 "cells": [
  {
   "cell_type": "code",
   "execution_count": 15,
   "metadata": {
    "collapsed": false,
    "deletable": true,
    "editable": true
   },
   "outputs": [],
   "source": [
    "import re\n",
    "from nltk import word_tokenize\n",
    "from collections import Counter, defaultdict"
   ]
  },
  {
   "cell_type": "markdown",
   "metadata": {
    "deletable": true,
    "editable": true
   },
   "source": [
    "## Función `regex_repetitions(string)`\n",
    "\n",
    "Recibe como parámetro un string y determina el número de repeticiones que hay dentro de un `string` utilizando una expresión regular. \n",
    "\n",
    "\n",
    "Por ejemplo, con el string `hoooooolaaaa`:\n",
    "\n",
    "Primero se debe hacer un casting a una lista para que guarde todas las repeticiones que encontró\n",
    "```python\n",
    "list(regex_repetitions('hoooooolaaaa'))\n",
    "```\n",
    "\n",
    "\n",
    "nos retorna una lista con la letra repetida y cuántas veces se repite\n",
    "```python\n",
    "[('o', 6.0), ('a', 4.0)]\n",
    "```\n",
    "\n",
    "\n",
    "[Fuente](https://stackoverflow.com/questions/9079797/detect-repetitions-in-string)."
   ]
  },
  {
   "cell_type": "code",
   "execution_count": 3,
   "metadata": {
    "collapsed": false,
    "deletable": true,
    "editable": true
   },
   "outputs": [
    {
     "data": {
      "text/plain": [
       "[('o', 6.0), ('a', 4.0)]"
      ]
     },
     "execution_count": 3,
     "metadata": {},
     "output_type": "execute_result"
    }
   ],
   "source": [
    "def regex_repetitions(string):\n",
    "   r = re.compile(r\"(.+?)\\1(.+?)\\1+\")\n",
    "   for match in r.finditer(string):\n",
    "       yield (match.group(1), len(match.group(0))/len(match.group(1)))\n",
    "    \n",
    "list(regex_repetitions('hoooooolaaaa'))"
   ]
  },
  {
   "cell_type": "markdown",
   "metadata": {
    "deletable": true,
    "editable": true
   },
   "source": [
    "## Función `repetitions(string)`\n",
    "\n",
    "Recibe un string como parámetro. Utiliza la función `regex_repetitions(string)` para determinar el número de repeticiones en el string.\n",
    "\n",
    "Y por cada repetición que encuentra es una tupla con el caracter repetido y el número de repeticiones, estos se usan para hacer un nuevo string.\n",
    "\n",
    "Por ejemplo, con el string hoooooolaaaa y retorna un nuevo string reducido:\n",
    "\n",
    "```python\n",
    "test = repetitions('hoooooolaaaa')\n",
    "print(test)\n",
    "```\n",
    "Resultado\n",
    "```python\n",
    "ho6la4\n",
    "```\n",
    "donde o6 indica que la letra 'o' se repite seis veces y a la 'a' cuatro veces."
   ]
  },
  {
   "cell_type": "code",
   "execution_count": 4,
   "metadata": {
    "collapsed": false,
    "deletable": true,
    "editable": true
   },
   "outputs": [
    {
     "name": "stdout",
     "output_type": "stream",
     "text": [
      "ho6la4\n"
     ]
    }
   ],
   "source": [
    "def repetitions(string):\n",
    "    rept_list = list(regex_repetitions(string))\n",
    "    #new_string = string\n",
    "    for repetition in rept_list:\n",
    "        string = string.replace(\n",
    "                    repetition[0] * int(repetition[1]),\n",
    "                    repetition[0]\n",
    "                    +\n",
    "                    str(int(repetition[1])))\n",
    "    return string\n",
    "        \n",
    "\n",
    "test = repetitions('hoooooolaaaa')\n",
    "print(test)"
   ]
  },
  {
   "cell_type": "code",
   "execution_count": 5,
   "metadata": {
    "collapsed": true
   },
   "outputs": [],
   "source": [
    "def clean_tweet(tweet):\n",
    "    '''\n",
    "    Elimina tokens USUARIO, LIGA, es, caracterDeSaltoDeLínea para poder contar las frequencies de las\n",
    "    palabras\n",
    "    '''\n",
    "    tweet = dict(Counter(tweet))\n",
    "    tweet.pop('USUARIO', None)\n",
    "    tweet.pop('LIGA', None)\n",
    "    tweet.pop('es\\n', None)\n",
    "    tweet.pop('caracterDeSaltoDeLínea', None)\n",
    "    return tweet"
   ]
  },
  {
   "cell_type": "markdown",
   "metadata": {
    "deletable": true,
    "editable": true
   },
   "source": [
    "#### Archivos de trabajo. \n",
    "* Archivo con todos los tweets (`solo_espanol.txt`).\n",
    "* Se crea un archivo temporal con 50 tweets para pruebas (`temp.txt`).\n",
    "* Archivo con tweets cambiando algunos tokens como usuarios o ligas para no mostrarlos (`new_tweets.txt`)."
   ]
  },
  {
   "cell_type": "code",
   "execution_count": 39,
   "metadata": {
    "collapsed": true,
    "deletable": true,
    "editable": true
   },
   "outputs": [],
   "source": [
    "texto_tmp = \"temp.txt\"\n",
    "texto = 'solo_espanol.txt'\n",
    "tweets_limpio = \"new_tweets.txt\"\n",
    "tweets_limpio_test = \"new_tweets_tmp.txt\""
   ]
  },
  {
   "cell_type": "code",
   "execution_count": 43,
   "metadata": {
    "collapsed": false,
    "deletable": true,
    "editable": true
   },
   "outputs": [
    {
     "name": "stdout",
     "output_type": "stream",
     "text": [
      "[('Con', 0), ('mis', 1), ('niñas', 2), ('Amex', 3), ('adoradas', 4), ('...', 5), ('❤️❤️❤️', 6), ('(', 7), ('@', 8), ('Dulcinea', 9), ('Cocina', 10), ('Urbana', 11), (')', 12), ('LIGA', 13), ('es', 14)]\n",
      "[('USUARIO', 0), ('cuando', 1), ('van', 2), ('a', 3), ('regresar', 4), ('el', 5), ('paquete', 6), ('perdido', 7), ('de', 8), ('nuestros', 9), ('amigos', 10), ('USUARIO', 11), ('USUARIO', 12), ('es', 13)]\n",
      "[('USUARIO', 0), ('cuando', 1), ('van', 2), ('a', 3), ('regresar', 4), ('el', 5), ('paquete', 6), ('perdido', 7), ('de', 8), ('nuestros', 9), ('amigos', 10), ('USUARIO', 11), ('USUARIO', 12), ('es', 13)]\n",
      "[('¿Por', 0), ('qué', 1), ('no', 2), ('aprietan', 3), ('la', 4), ('pasta', 5), ('dental', 6), ('desde', 7), ('abajo', 8), ('?', 9), ('😠😡', 10), ('es', 11)]\n",
      "[('¿Por', 0), ('qué', 1), ('no', 2), ('aprietan', 3), ('la', 4), ('pasta', 5), ('dental', 6), ('desde', 7), ('abajo', 8), ('?', 9), ('😠😡', 10), ('es', 11)]\n",
      "[('``', 0), ('No', 1), ('es', 2), ('tu', 3), ('trabajo', 4), ('mejorar', 5), ('un', 6), ('mundo', 7), ('inherentemente', 8), ('caótico', 9), (\"''\", 10), ('.', 11), ('es', 12)]\n",
      "[('``', 0), ('No', 1), ('es', 2), ('tu', 3), ('trabajo', 4), ('mejorar', 5), ('un', 6), ('mundo', 7), ('inherentemente', 8), ('caótico', 9), (\"''\", 10), ('.', 11), ('es', 12)]\n",
      "[('#', 0), ('HarryStylesConExa', 1), ('Den', 2), ('todo', 3), ('de', 4), ('ustedes', 5), (',', 6), ('yo', 7), ('voy', 8), ('a', 9), ('dar', 10), ('todo', 11), ('y', 12), ('más', 13), ('.', 14), ('❤', 15), ('caracterDeSaltoDeLínea', 16), ('#', 17), ('HarryStylesMexico', 18), ('USUARIO', 19), ('caracterDeSaltoDeLínea', 20), ('(', 21), ('52', 22), (')', 23), ('5543207368', 24), ('es', 25)]\n",
      "[('#', 0), ('HarryStylesConExa', 1), ('Den', 2), ('todo', 3), ('de', 4), ('ustedes', 5), (',', 6), ('yo', 7), ('voy', 8), ('a', 9), ('dar', 10), ('todo', 11), ('y', 12), ('más', 13), ('.', 14), ('❤', 15), ('caracterDeSaltoDeLínea', 16), ('#', 17), ('HarryStylesMexico', 18), ('USUARIO', 19), ('caracterDeSaltoDeLínea', 20), ('(', 21), ('52', 22), (')', 23), ('5543207368', 24), ('es', 25)]\n",
      "[('Desayuno', 0), ('de', 1), ('go6rdos', 2), ('🙈\\U0001f937🏽\\u200d♀️', 3), ('(', 4), ('at', 5), ('USUARIO', 6), ('in', 7), ('Benito', 8), ('Juárez', 9), (',', 10), ('DF', 11), (')', 12), ('LIGA', 13), ('es', 14)]\n",
      "[('Desayuno', 0), ('de', 1), ('go6rdos', 2), ('🙈\\U0001f937🏽\\u200d♀️', 3), ('(', 4), ('at', 5), ('USUARIO', 6), ('in', 7), ('Benito', 8), ('Juárez', 9), (',', 10), ('DF', 11), (')', 12), ('LIGA', 13), ('es', 14)]\n",
      "[('Mayo', 0), ('13', 1), ('1524', 2), ('Llegan', 3), ('a', 4), ('Veracruz', 5), ('los', 6), ('doce', 7), ('franciscanos', 8), ('encabezados', 9), ('por', 10), ('fray', 11), ('Martín', 12), ('de', 13), ('Valencia', 14), ('caracterDeSaltoDeLínea', 15), ('LIGA', 16), ('es', 17)]\n",
      "[('Mayo', 0), ('13', 1), ('1524', 2), ('Llegan', 3), ('a', 4), ('Veracruz', 5), ('los', 6), ('doce', 7), ('franciscanos', 8), ('encabezados', 9), ('por', 10), ('fray', 11), ('Martín', 12), ('de', 13), ('Valencia', 14), ('caracterDeSaltoDeLínea', 15), ('LIGA', 16), ('es', 17)]\n",
      "[('Donde', 0), ('esta', 1), ('la', 2), ('honestidad', 3), ('de', 4), ('Delfina', 5), ('?', 6), ('LIGA', 7), ('#', 8), ('cem2017', 9), ('#', 10), ('FelizSabado', 11), ('es', 12)]\n",
      "[('Donde', 0), ('esta', 1), ('la', 2), ('honestidad', 3), ('de', 4), ('Delfina', 5), ('?', 6), ('LIGA', 7), ('#', 8), ('cem2017', 9), ('#', 10), ('FelizSabado', 11), ('es', 12)]\n",
      "[('1', 0), ('.', 1), ('Tuve', 2), ('que', 3), ('eliminar', 4), ('a', 5), ('varias', 6), ('chavas', 7), ('de', 8), ('mi', 9), ('edad', 10), ('en', 11), ('FB', 12), ('.', 13), ('es', 14)]\n",
      "[('1', 0), ('.', 1), ('Tuve', 2), ('que', 3), ('eliminar', 4), ('a', 5), ('varias', 6), ('chavas', 7), ('de', 8), ('mi', 9), ('edad', 10), ('en', 11), ('FB', 12), ('.', 13), ('es', 14)]\n",
      "[('#', 0), ('HarryStylesConExa', 1), ('No', 2), ('se', 3), ('rindan', 4), (',', 5), ('no', 6), ('sabemos', 7), ('lo', 8), ('que', 9), ('puede', 10), ('pasar', 11), ('.', 12), ('caracterDeSaltoDeLínea', 13), ('#', 14), ('HarryStylesMexico', 15), ('USUARIO', 16), ('caracterDeSaltoDeLínea', 17), ('(', 18), ('52', 19), (')', 20), ('5543207368', 21), ('es', 22)]\n",
      "[('#', 0), ('HarryStylesConExa', 1), ('No', 2), ('se', 3), ('rindan', 4), (',', 5), ('no', 6), ('sabemos', 7), ('lo', 8), ('que', 9), ('puede', 10), ('pasar', 11), ('.', 12), ('caracterDeSaltoDeLínea', 13), ('#', 14), ('HarryStylesMexico', 15), ('USUARIO', 16), ('caracterDeSaltoDeLínea', 17), ('(', 18), ('52', 19), (')', 20), ('5543207368', 21), ('es', 22)]\n",
      "[('Cuántos', 0), ('❤', 1), ('y', 2), ('🔁', 3), ('conseguire', 4), ('les', 5), ('gustan', 6), ('LIGA', 7), ('es', 8)]\n",
      "[('Cuántos', 0), ('❤', 1), ('y', 2), ('🔁', 3), ('conseguire', 4), ('les', 5), ('gustan', 6), ('LIGA', 7), ('es', 8)]\n",
      "[('Evidencia', 0), ('más', 1), ('que', 2), ('suficiente', 3), ('para', 4), ('ratificar', 5), ('que', 6), ('el', 7), ('gobierno', 8), ('como', 9), ('tal', 10), ('YA', 11), ('NO', 12), ('ES', 13), ('FUNCIONAL', 14), (',', 15), ('está', 16), ('contaminado', 17), ('por', 18), ('todos…', 19), ('LIGA', 20), ('es', 21)]\n",
      "[('Evidencia', 0), ('más', 1), ('que', 2), ('suficiente', 3), ('para', 4), ('ratificar', 5), ('que', 6), ('el', 7), ('gobierno', 8), ('como', 9), ('tal', 10), ('YA', 11), ('NO', 12), ('ES', 13), ('FUNCIONAL', 14), (',', 15), ('está', 16), ('contaminado', 17), ('por', 18), ('todos…', 19), ('LIGA', 20), ('es', 21)]\n",
      "[('Cuando', 0), ('tienes', 1), ('piernas', 2), ('largas', 3), (',', 4), ('gordas', 5), ('y', 6), ('tatuadas', 7), ('...', 8), ('caracterDeSaltoDeLínea', 9), ('#', 10), ('PosPresusmelas', 11), ('@', 12), ('CUC', 13), (',', 14), ('ciudad', 15), ('universitaria', 16), ('LIGA', 17), ('es', 18)]\n",
      "[('Cuando', 0), ('tienes', 1), ('piernas', 2), ('largas', 3), (',', 4), ('gordas', 5), ('y', 6), ('tatuadas', 7), ('...', 8), ('caracterDeSaltoDeLínea', 9), ('#', 10), ('PosPresusmelas', 11), ('@', 12), ('CUC', 13), (',', 14), ('ciudad', 15), ('universitaria', 16), ('LIGA', 17), ('es', 18)]\n",
      "[('#', 0), ('FARÁNDULA', 1), ('Tras', 2), ('polémico', 3), ('playback', 4), (',', 5), ('USUARIO', 6), ('se', 7), ('defiende', 8), ('de', 9), ('las', 10), ('críticas', 11), ('#', 12), ('VIDEO', 13), ('LIGA', 14), ('es', 15)]\n",
      "[('#', 0), ('FARÁNDULA', 1), ('Tras', 2), ('polémico', 3), ('playback', 4), (',', 5), ('USUARIO', 6), ('se', 7), ('defiende', 8), ('de', 9), ('las', 10), ('críticas', 11), ('#', 12), ('VIDEO', 13), ('LIGA', 14), ('es', 15)]\n",
      "[('I', 0), (\"'m\", 1), ('at', 2), ('Reclusorio', 3), ('Oriente', 4), ('in', 5), ('Ciudad', 6), ('de', 7), ('México', 8), (',', 9), ('Distrito', 10), ('Federal', 11), ('LIGA', 12), ('es', 13)]\n",
      "[('I', 0), (\"'m\", 1), ('at', 2), ('Reclusorio', 3), ('Oriente', 4), ('in', 5), ('Ciudad', 6), ('de', 7), ('México', 8), (',', 9), ('Distrito', 10), ('Federal', 11), ('LIGA', 12), ('es', 13)]\n",
      "[('USUARIO', 0), ('Ya', 1), ('.', 2), ('Ciertamente', 3), ('son', 4), ('chingaderas', 5), ('es', 6)]\n",
      "[('USUARIO', 0), ('Ya', 1), ('.', 2), ('Ciertamente', 3), ('son', 4), ('chingaderas', 5), ('es', 6)]\n",
      "[('I', 0), (\"'m\", 1), ('at', 2), ('Grupo', 3), ('Destinos', 4), ('Sacramento', 5), ('in', 6), ('Mexico', 7), (',', 8), ('Df', 9), ('LIGA', 10), ('es', 11)]\n",
      "[('I', 0), (\"'m\", 1), ('at', 2), ('Grupo', 3), ('Destinos', 4), ('Sacramento', 5), ('in', 6), ('Mexico', 7), (',', 8), ('Df', 9), ('LIGA', 10), ('es', 11)]\n",
      "[('No', 0), ('es', 1), ('mala', 2), ('honda', 3), (',', 4), ('pero', 5), ('en', 6), ('nuestro', 7), ('país', 8), (',', 9), ('que', 10), ('cuerpo', 11), ('policiaco', 12), ('esta', 13), ('bien', 14), ('capacitado', 15), ('para', 16), ('cumplir', 17), ('sus', 18), ('funciones', 19), ('?', 20), ('?', 21), ('?', 22), ('…', 23), ('LIGA', 24), ('es', 25)]\n",
      "[('No', 0), ('es', 1), ('mala', 2), ('honda', 3), (',', 4), ('pero', 5), ('en', 6), ('nuestro', 7), ('país', 8), (',', 9), ('que', 10), ('cuerpo', 11), ('policiaco', 12), ('esta', 13), ('bien', 14), ('capacitado', 15), ('para', 16), ('cumplir', 17), ('sus', 18), ('funciones', 19), ('?', 20), ('?', 21), ('?', 22), ('…', 23), ('LIGA', 24), ('es', 25)]\n",
      "[('I', 0), (\"'m\", 1), ('at', 2), ('Alberca', 3), ('Olímpica', 4), ('Agustín', 5), ('Melgar', 6), ('in', 7), ('Venustiano', 8), ('Carranza', 9), (',', 10), ('Ciudad', 11), ('de', 12), ('México', 13), ('LIGA', 14), ('es', 15)]\n",
      "[('I', 0), (\"'m\", 1), ('at', 2), ('Alberca', 3), ('Olímpica', 4), ('Agustín', 5), ('Melgar', 6), ('in', 7), ('Venustiano', 8), ('Carranza', 9), (',', 10), ('Ciudad', 11), ('de', 12), ('México', 13), ('LIGA', 14), ('es', 15)]\n",
      "[('Ya', 0), ('estamos', 1), ('en', 2), ('USUARIO', 3), ('estaremos', 4), ('hablando', 5), ('de', 6), ('Festivales', 7), ('Gastronómicos', 8), ('con', 9), ('USUARIO', 10), ('LIGA', 11), ('96.9', 12), ('FM', 13), ('10:30am', 14), ('es', 15)]\n",
      "[('Ya', 0), ('estamos', 1), ('en', 2), ('USUARIO', 3), ('estaremos', 4), ('hablando', 5), ('de', 6), ('Festivales', 7), ('Gastronómicos', 8), ('con', 9), ('USUARIO', 10), ('LIGA', 11), ('96.9', 12), ('FM', 13), ('10:30am', 14), ('es', 15)]\n",
      "[('Historias', 0), ('Cortas', 1), (':', 2), ('Y', 3), ('se', 4), ('rompió', 5), ('cuando', 6), ('ella', 7), ('le', 8), ('confesó', 9), ('que', 10), ('él', 11), ('solo', 12), ('fue', 13), ('un', 14), ('bote', 15), ('dónde', 16), ('vacío', 17), ('sus', 18), ('frustraciones', 19), ('...', 20), ('Él', 21), ('solo', 22), ('la', 23), ('amaba', 24), ('.', 25), ('es', 26)]\n",
      "[('Historias', 0), ('Cortas', 1), (':', 2), ('Y', 3), ('se', 4), ('rompió', 5), ('cuando', 6), ('ella', 7), ('le', 8), ('confesó', 9), ('que', 10), ('él', 11), ('solo', 12), ('fue', 13), ('un', 14), ('bote', 15), ('dónde', 16), ('vacío', 17), ('sus', 18), ('frustraciones', 19), ('...', 20), ('Él', 21), ('solo', 22), ('la', 23), ('amaba', 24), ('.', 25), ('es', 26)]\n",
      "[('Llevé', 0), ('a', 1), ('USUARIO', 2), ('al', 3), ('que', 4), ('pensaba', 5), ('que', 6), ('era', 7), ('el', 8), ('mejor', 9), ('antro', 10), ('de', 11), ('la', 12), ('CDMx', 13), ('.', 14), ('Ya', 15), ('convertido', 16), ('en', 17), ('el', 18), ('Marra', 19), ('dePolanco', 20), ('.', 21), ('es', 22)]\n",
      "[('Llevé', 0), ('a', 1), ('USUARIO', 2), ('al', 3), ('que', 4), ('pensaba', 5), ('que', 6), ('era', 7), ('el', 8), ('mejor', 9), ('antro', 10), ('de', 11), ('la', 12), ('CDMx', 13), ('.', 14), ('Ya', 15), ('convertido', 16), ('en', 17), ('el', 18), ('Marra', 19), ('dePolanco', 20), ('.', 21), ('es', 22)]\n",
      "[('Cuestionar', 0), ('lo', 1), ('que', 2), ('leemos', 3), ('y', 4), ('no', 5), ('darlo', 6), ('todo', 7), ('por', 8), ('sentado', 9), ('.', 10), ('es', 11)]\n",
      "[('Cuestionar', 0), ('lo', 1), ('que', 2), ('leemos', 3), ('y', 4), ('no', 5), ('darlo', 6), ('todo', 7), ('por', 8), ('sentado', 9), ('.', 10), ('es', 11)]\n",
      "[('Dónde', 0), ('vi', 1), ('eso', 2), ('en', 3), ('la', 4), ('semana', 5), ('?', 6), ('😕', 7), ('LIGA', 8), ('es', 9)]\n",
      "[('Dónde', 0), ('vi', 1), ('eso', 2), ('en', 3), ('la', 4), ('semana', 5), ('?', 6), ('😕', 7), ('LIGA', 8), ('es', 9)]\n",
      "[('#', 0), ('PrecauciónVial', 1), ('en', 2), ('Salamanca', 3), ('al', 4), ('cruce', 5), ('con', 6), ('Puebla', 7), ('por', 8), ('percance', 9), ('.', 10), ('maneje', 11), ('con', 12), ('cuidado', 13), ('.', 14), ('es', 15)]\n",
      "[('#', 0), ('PrecauciónVial', 1), ('en', 2), ('Salamanca', 3), ('al', 4), ('cruce', 5), ('con', 6), ('Puebla', 7), ('por', 8), ('percance', 9), ('.', 10), ('maneje', 11), ('con', 12), ('cuidado', 13), ('.', 14), ('es', 15)]\n",
      "[('#', 0), ('HarryStylesConExa', 1), ('Todas', 2), ('lo', 3), ('queremos', 4), ('ver', 5), (',', 6), ('que', 7), ('no', 8), ('se', 9), ('pierda', 10), ('la', 11), ('esperanza', 12), ('.', 13), ('❤😊', 14), ('caracterDeSaltoDeLínea', 15), ('#', 16), ('HarryStylesMexico', 17), ('USUARIO', 18), ('caracterDeSaltoDeLínea', 19), ('(', 20), ('52', 21), (')', 22), ('5543207368', 23), ('es', 24)]\n",
      "[('#', 0), ('HarryStylesConExa', 1), ('Todas', 2), ('lo', 3), ('queremos', 4), ('ver', 5), (',', 6), ('que', 7), ('no', 8), ('se', 9), ('pierda', 10), ('la', 11), ('esperanza', 12), ('.', 13), ('❤😊', 14), ('caracterDeSaltoDeLínea', 15), ('#', 16), ('HarryStylesMexico', 17), ('USUARIO', 18), ('caracterDeSaltoDeLínea', 19), ('(', 20), ('52', 21), (')', 22), ('5543207368', 23), ('es', 24)]\n",
      "[('#', 0), ('Bundesliga', 1), ('caracterDeSaltoDeLínea', 2), ('caracterDeSaltoDeLínea', 3), ('¡GOOOL', 4), ('del', 5), ('USUARIO', 6), ('⚽', 7), ('Al', 8), ('59', 9), (\"'\", 10), (',', 11), ('USUARIO', 12), ('aparece', 13), ('para', 14), ('el', 15), ('descuento', 16), ('.', 17), ('¡1-2', 18), ('!', 19), ('caracterDeSaltoDeLínea', 20), ('caracterDeSaltoDeLínea', 21), ('EN', 22), ('VIVO', 23), ('👉🏽', 24), ('LIGA', 25), ('es', 26)]\n",
      "[('#', 0), ('Bundesliga', 1), ('caracterDeSaltoDeLínea', 2), ('caracterDeSaltoDeLínea', 3), ('¡GOOOL', 4), ('del', 5), ('USUARIO', 6), ('⚽', 7), ('Al', 8), ('59', 9), (\"'\", 10), (',', 11), ('USUARIO', 12), ('aparece', 13), ('para', 14), ('el', 15), ('descuento', 16), ('.', 17), ('¡1-2', 18), ('!', 19), ('caracterDeSaltoDeLínea', 20), ('caracterDeSaltoDeLínea', 21), ('EN', 22), ('VIVO', 23), ('👉🏽', 24), ('LIGA', 25), ('es', 26)]\n",
      "[('I', 0), (\"'m\", 1), ('at', 2), ('Facultad', 3), ('de', 4), ('USUARIO', 5), ('in', 6), ('Coyoacán', 7), (',', 8), ('Distrito', 9), ('Federal', 10), ('LIGA', 11), ('es', 12)]\n",
      "[('I', 0), (\"'m\", 1), ('at', 2), ('Facultad', 3), ('de', 4), ('USUARIO', 5), ('in', 6), ('Coyoacán', 7), (',', 8), ('Distrito', 9), ('Federal', 10), ('LIGA', 11), ('es', 12)]\n",
      "[('#', 0), ('PrecauciónVial', 1), ('en', 2), ('Salamanca', 3), ('al', 4), ('cruce', 5), ('con', 6), ('Puebla', 7), ('por', 8), ('percance', 9), (',', 10), ('maneje', 11), ('con', 12), ('cuidado', 13), ('.', 14), ('es', 15)]\n",
      "[('#', 0), ('PrecauciónVial', 1), ('en', 2), ('Salamanca', 3), ('al', 4), ('cruce', 5), ('con', 6), ('Puebla', 7), ('por', 8), ('percance', 9), (',', 10), ('maneje', 11), ('con', 12), ('cuidado', 13), ('.', 14), ('es', 15)]\n",
      "[('Solo', 0), ('un', 1), ('poco', 2), ('tarde', 3), ('jojo', 4), ('(', 5), ('@', 6), ('Green', 7), ('Yoga', 8), ('Juárez/Roma', 9), ('in', 10), ('México', 11), (',', 12), ('Distrito', 13), ('Federal', 14), (')', 15), ('LIGA', 16), ('es', 17)]\n",
      "[('Solo', 0), ('un', 1), ('poco', 2), ('tarde', 3), ('jojo', 4), ('(', 5), ('@', 6), ('Green', 7), ('Yoga', 8), ('Juárez/Roma', 9), ('in', 10), ('México', 11), (',', 12), ('Distrito', 13), ('Federal', 14), (')', 15), ('LIGA', 16), ('es', 17)]\n",
      "[('Curso', 0), ('práctico', 1), ('«Corrección', 2), ('de', 3), ('estilo', 4), ('y', 5), ('ortotipográfica', 6), ('en', 7), ('papel', 8), ('y', 9), ('en', 10), ('pantalla»', 11), ('los', 12), ('sábados', 13), ('del', 14), ('20', 15), ('de', 16), ('mayo', 17), ('al', 18), ('24', 19), ('de…', 20), ('LIGA', 21), ('es', 22)]\n",
      "[('Curso', 0), ('práctico', 1), ('«Corrección', 2), ('de', 3), ('estilo', 4), ('y', 5), ('ortotipográfica', 6), ('en', 7), ('papel', 8), ('y', 9), ('en', 10), ('pantalla»', 11), ('los', 12), ('sábados', 13), ('del', 14), ('20', 15), ('de', 16), ('mayo', 17), ('al', 18), ('24', 19), ('de…', 20), ('LIGA', 21), ('es', 22)]\n",
      "[('USUARIO', 0), ('revisen', 1), ('este', 2), ('caso', 3), ('donde', 4), ('USUARIO', 5), ('pierde', 6), ('un', 7), ('paquete', 8), ('de', 9), ('USUARIO', 10), ('USUARIO', 11), ('y', 12), ('no', 13), ('ha', 14), ('dado', 15), ('respuesta', 16), ('#', 17), ('estafetaNoCumple', 18), ('es', 19)]\n",
      "[('USUARIO', 0), ('revisen', 1), ('este', 2), ('caso', 3), ('donde', 4), ('USUARIO', 5), ('pierde', 6), ('un', 7), ('paquete', 8), ('de', 9), ('USUARIO', 10), ('USUARIO', 11), ('y', 12), ('no', 13), ('ha', 14), ('dado', 15), ('respuesta', 16), ('#', 17), ('estafetaNoCumple', 18), ('es', 19)]\n",
      "[('#', 0), ('cem2017', 1), ('#', 2), ('Bundesliga', 3), ('Sale', 4), ('a', 5), ('la', 6), ('luz', 7), ('la', 8), ('inexperiencia', 9), ('de', 10), ('Delfina', 11), (',', 12), ('Lee', 13), ('el', 14), ('articulo', 15), ('y', 16), ('comparte', 17), ('LIGA', 18), ('es', 19)]\n",
      "[('#', 0), ('cem2017', 1), ('#', 2), ('Bundesliga', 3), ('Sale', 4), ('a', 5), ('la', 6), ('luz', 7), ('la', 8), ('inexperiencia', 9), ('de', 10), ('Delfina', 11), (',', 12), ('Lee', 13), ('el', 14), ('articulo', 15), ('y', 16), ('comparte', 17), ('LIGA', 18), ('es', 19)]\n",
      "[('¿Eres', 0), ('pendejo', 1), ('o', 2), ('te', 3), ('haces', 4), ('?', 5), ('Ni', 6), ('siquiera', 7), ('en', 8), ('ese', 9), ('caso', 10), ('tienes', 11), ('derecho', 12), ('a', 13), ('matar', 14), ('a', 15), ('un', 16), ('hombre', 17), ('desarmado', 18), ('y', 19), ('tirado', 20), ('en', 21), ('el', 22), ('piso', 23), ('LIGA', 24), ('es', 25)]\n",
      "[('¿Eres', 0), ('pendejo', 1), ('o', 2), ('te', 3), ('haces', 4), ('?', 5), ('Ni', 6), ('siquiera', 7), ('en', 8), ('ese', 9), ('caso', 10), ('tienes', 11), ('derecho', 12), ('a', 13), ('matar', 14), ('a', 15), ('un', 16), ('hombre', 17), ('desarmado', 18), ('y', 19), ('tirado', 20), ('en', 21), ('el', 22), ('piso', 23), ('LIGA', 24), ('es', 25)]\n",
      "[('En', 0), ('el', 1), ('#', 2), ('Foro', 3), ('#', 4), ('Tecnología', 5), ('#', 6), ('Voluntariado', 7), ('y', 8), ('#', 9), ('Fondos', 10), ('para', 11), ('el', 12), ('#', 13), ('Desarrollo', 14), ('representando', 15), ('a', 16), ('#', 17), ('Fundación…', 18), ('LIGA', 19), ('es', 20)]\n",
      "[('En', 0), ('el', 1), ('#', 2), ('Foro', 3), ('#', 4), ('Tecnología', 5), ('#', 6), ('Voluntariado', 7), ('y', 8), ('#', 9), ('Fondos', 10), ('para', 11), ('el', 12), ('#', 13), ('Desarrollo', 14), ('representando', 15), ('a', 16), ('#', 17), ('Fundación…', 18), ('LIGA', 19), ('es', 20)]\n",
      "[('Mayo', 0), ('13', 1), ('1911', 2), ('.', 3), ('Las', 4), ('fuerzas', 5), ('revolucionarias', 6), ('de', 7), ('Emiliano', 8), ('Zapata', 9), ('inician', 10), ('el', 11), ('ataque', 12), ('y', 13), ('sitio', 14), ('de', 15), ('Cuautla', 16), ('LIGA', 17), ('es', 18)]\n",
      "[('Mayo', 0), ('13', 1), ('1911', 2), ('.', 3), ('Las', 4), ('fuerzas', 5), ('revolucionarias', 6), ('de', 7), ('Emiliano', 8), ('Zapata', 9), ('inician', 10), ('el', 11), ('ataque', 12), ('y', 13), ('sitio', 14), ('de', 15), ('Cuautla', 16), ('LIGA', 17), ('es', 18)]\n",
      "[('Pre', 0), ('festejo', 1), ('del', 2), ('uno', 3), ('USUARIO', 4), ('gracias', 5), ('caliño', 6), ('mío', 7), ('!', 8), ('!', 9), ('Me', 10), ('encantó', 11), ('la', 12), ('sorpresa', 13), ('#', 14), ('LoveMyFamily', 15), ('😘😘😘', 16), ('LIGA', 17), ('es', 18)]\n",
      "[('Pre', 0), ('festejo', 1), ('del', 2), ('uno', 3), ('USUARIO', 4), ('gracias', 5), ('caliño', 6), ('mío', 7), ('!', 8), ('!', 9), ('Me', 10), ('encantó', 11), ('la', 12), ('sorpresa', 13), ('#', 14), ('LoveMyFamily', 15), ('😘😘😘', 16), ('LIGA', 17), ('es', 18)]\n",
      "[('Hoy', 0), ('hace', 1), ('14', 2), ('años', 3), ('murió', 4), ('Antonio', 5), ('González', 6), ('Caballero.-', 7), ('USUARIO', 8), ('A', 9), ('la', 10), ('memoria', 11), ('...', 12), ('LIGA', 13), ('es', 14)]\n",
      "[('Hoy', 0), ('hace', 1), ('14', 2), ('años', 3), ('murió', 4), ('Antonio', 5), ('González', 6), ('Caballero.-', 7), ('USUARIO', 8), ('A', 9), ('la', 10), ('memoria', 11), ('...', 12), ('LIGA', 13), ('es', 14)]\n",
      "[('Tempranillo', 0), ('pa', 1), (\"'\", 2), ('que', 3), ('salga', 4), ('rápido', 5), ('!', 6), ('😎', 7), ('(', 8), ('@', 9), ('Print', 10), ('It', 11), ('!', 12), ('in', 13), ('Ciudad', 14), ('de', 15), ('México', 16), (')', 17), ('LIGA', 18), ('es', 19)]\n",
      "[('Tempranillo', 0), ('pa', 1), (\"'\", 2), ('que', 3), ('salga', 4), ('rápido', 5), ('!', 6), ('😎', 7), ('(', 8), ('@', 9), ('Print', 10), ('It', 11), ('!', 12), ('in', 13), ('Ciudad', 14), ('de', 15), ('México', 16), (')', 17), ('LIGA', 18), ('es', 19)]\n",
      "[('#', 0), ('HarryStylesConExa', 1), ('Quiero', 2), ('enserio', 3), (',', 4), ('quiero', 5), ('verlo', 6), ('por', 7), ('favor', 8), (',', 9), ('regalenme', 10), ('un', 11), ('boleto', 12), ('.', 13), ('❤🙇🙇', 14), ('caracterDeSaltoDeLínea', 15), ('#', 16), ('HarryStylesMexico', 17), ('USUARIO', 18), ('caracterDeSaltoDeLínea', 19), ('(', 20), ('52', 21), (')', 22), ('5543207368', 23), ('es', 24)]\n",
      "[('#', 0), ('HarryStylesConExa', 1), ('Quiero', 2), ('enserio', 3), (',', 4), ('quiero', 5), ('verlo', 6), ('por', 7), ('favor', 8), (',', 9), ('regalenme', 10), ('un', 11), ('boleto', 12), ('.', 13), ('❤🙇🙇', 14), ('caracterDeSaltoDeLínea', 15), ('#', 16), ('HarryStylesMexico', 17), ('USUARIO', 18), ('caracterDeSaltoDeLínea', 19), ('(', 20), ('52', 21), (')', 22), ('5543207368', 23), ('es', 24)]\n",
      "[('I', 0), (\"'m\", 1), ('at', 2), ('Mega', 3), ('Comercial', 4), ('Mexicana', 5), ('-', 6), ('USUARIO', 7), ('in', 8), ('Benito', 9), ('Juárez', 10), (',', 11), ('DF', 12), ('LIGA', 13), ('es', 14)]\n",
      "[('I', 0), (\"'m\", 1), ('at', 2), ('Mega', 3), ('Comercial', 4), ('Mexicana', 5), ('-', 6), ('USUARIO', 7), ('in', 8), ('Benito', 9), ('Juárez', 10), (',', 11), ('DF', 12), ('LIGA', 13), ('es', 14)]\n",
      "[('Pronóstico', 0), ('de', 1), ('#', 2), ('LluviaQro', 3), ('para', 4), ('la', 5), ('tarde', 6), ('-', 7), ('noche', 8), ('de', 9), ('hoy', 10), ('sabado', 11), ('caracterDeSaltoDeLínea', 12), ('🌧', 13), ('caracterDeSaltoDeLínea', 14), ('USUARIO', 15), ('USUARIO', 16), ('USUARIO', 17), ('LIGA', 18), ('es', 19)]\n",
      "[('Pronóstico', 0), ('de', 1), ('#', 2), ('LluviaQro', 3), ('para', 4), ('la', 5), ('tarde', 6), ('-', 7), ('noche', 8), ('de', 9), ('hoy', 10), ('sabado', 11), ('caracterDeSaltoDeLínea', 12), ('🌧', 13), ('caracterDeSaltoDeLínea', 14), ('USUARIO', 15), ('USUARIO', 16), ('USUARIO', 17), ('LIGA', 18), ('es', 19)]\n",
      "[('Cuando', 0), ('mi', 1), ('mamá', 2), ('me', 3), ('ve', 4), ('y', 5), ('no', 6), ('estoy', 7), ('crudo', 8), ('.', 9), ('LIGA', 10), ('es', 11)]\n",
      "[('Cuando', 0), ('mi', 1), ('mamá', 2), ('me', 3), ('ve', 4), ('y', 5), ('no', 6), ('estoy', 7), ('crudo', 8), ('.', 9), ('LIGA', 10), ('es', 11)]\n",
      "[('USUARIO', 0), ('Gracias', 1), ('se', 2), ('toma', 3), ('su', 4), ('denuncia', 5), ('así', 6), ('como', 7), ('se', 8), ('realiza', 9), ('la', 10), ('investigación', 11), ('correspondiente', 12), ('de', 13), ('estos', 14), ('hechos', 15), ('...', 16), ('#', 17), ('AsuntosInternos', 18), ('es', 19)]\n",
      "[('USUARIO', 0), ('Gracias', 1), ('se', 2), ('toma', 3), ('su', 4), ('denuncia', 5), ('así', 6), ('como', 7), ('se', 8), ('realiza', 9), ('la', 10), ('investigación', 11), ('correspondiente', 12), ('de', 13), ('estos', 14), ('hechos', 15), ('...', 16), ('#', 17), ('AsuntosInternos', 18), ('es', 19)]\n",
      "[('A', 0), ('estudiar', 1), (',', 2), ('a', 3), ('ponernos', 4), ('las', 5), ('pilas', 6), ('LIGA', 7), ('es', 8)]\n",
      "[('A', 0), ('estudiar', 1), (',', 2), ('a', 3), ('ponernos', 4), ('las', 5), ('pilas', 6), ('LIGA', 7), ('es', 8)]\n",
      "[('Se', 0), ('reúne', 1), ('Gobernador', 2), ('con', 3), ('titulares', 4), ('de', 5), ('CEAV', 6), ('y', 7), ('Derechos', 8), ('Humanos', 9), ('de', 10), ('la', 11), ('#', 12), ('ONU', 13), ('LIGA', 14), ('.', 15), ('@', 16), ('fgcabezadevaca…', 17), ('LIGA', 18), ('es', 19)]\n",
      "[('Se', 0), ('reúne', 1), ('Gobernador', 2), ('con', 3), ('titulares', 4), ('de', 5), ('CEAV', 6), ('y', 7), ('Derechos', 8), ('Humanos', 9), ('de', 10), ('la', 11), ('#', 12), ('ONU', 13), ('LIGA', 14), ('.', 15), ('@', 16), ('fgcabezadevaca…', 17), ('LIGA', 18), ('es', 19)]\n",
      "[('Haremos', 0), ('el', 1), ('amor', 2), ('con', 3), ('tanta', 4), ('fuerza', 5), ('que', 6), ('se', 7), ('romperán', 8), ('los', 9), ('momentos', 10), ('tristes', 11), ('de', 12), ('nuestras', 13), ('vidas', 14), ('es', 15)]\n",
      "[('Haremos', 0), ('el', 1), ('amor', 2), ('con', 3), ('tanta', 4), ('fuerza', 5), ('que', 6), ('se', 7), ('romperán', 8), ('los', 9), ('momentos', 10), ('tristes', 11), ('de', 12), ('nuestras', 13), ('vidas', 14), ('es', 15)]\n",
      "[('``', 0), ('Tal', 1), ('vez', 2), ('no', 3), ('le', 4), ('caiga', 5), ('bien', 6), ('a', 7), ('todo', 8), ('el', 9), ('mundo', 10), (',', 11), ('pero', 12), ('no', 13), ('finjo', 14), ('ser', 15), ('una', 16), ('persona', 17), ('que', 18), ('no', 19), ('soy', 20), ('.', 21), (\"''\", 22), ('es', 23)]\n",
      "[('``', 0), ('Tal', 1), ('vez', 2), ('no', 3), ('le', 4), ('caiga', 5), ('bien', 6), ('a', 7), ('todo', 8), ('el', 9), ('mundo', 10), (',', 11), ('pero', 12), ('no', 13), ('finjo', 14), ('ser', 15), ('una', 16), ('persona', 17), ('que', 18), ('no', 19), ('soy', 20), ('.', 21), (\"''\", 22), ('es', 23)]\n",
      "[('Tlacoyos', 0), ('y', 1), ('tomates', 2), ('conviven', 3), ('en', 4), ('el', 5), ('comal', 6), ('de', 7), ('cascabel_cdmx', 8), ('#', 9), ('antojocascabel', 10), ('@', 11), ('Cascabel', 12), ('LIGA', 13), ('es', 14)]\n",
      "[('Tlacoyos', 0), ('y', 1), ('tomates', 2), ('conviven', 3), ('en', 4), ('el', 5), ('comal', 6), ('de', 7), ('cascabel_cdmx', 8), ('#', 9), ('antojocascabel', 10), ('@', 11), ('Cascabel', 12), ('LIGA', 13), ('es', 14)]\n",
      "[('Buen', 0), ('sábado', 1), (',', 2), ('¿Cómo', 3), ('estuvo', 4), ('su', 5), ('semana', 6), ('?', 7), ('caracterDeSaltoDeLínea', 8), ('Un', 9), ('fin', 10), ('semana', 11), ('para', 12), ('llenarlo', 13), ('de', 14), ('momentos', 15), ('gratos', 16), (',', 17), ('sonrisas', 18), ('y', 19), ('buenas', 20), ('vibras', 21), ('.', 22), ('es', 23)]\n",
      "[('Buen', 0), ('sábado', 1), (',', 2), ('¿Cómo', 3), ('estuvo', 4), ('su', 5), ('semana', 6), ('?', 7), ('caracterDeSaltoDeLínea', 8), ('Un', 9), ('fin', 10), ('semana', 11), ('para', 12), ('llenarlo', 13), ('de', 14), ('momentos', 15), ('gratos', 16), (',', 17), ('sonrisas', 18), ('y', 19), ('buenas', 20), ('vibras', 21), ('.', 22), ('es', 23)]\n",
      "[('Con', 0), ('mis', 1), ('niñas', 2), ('Amex', 3), ('adoradas', 4), ('...', 5), ('❤️❤️❤️', 6), ('(', 7), ('@', 8), ('Dulcinea', 9), ('Cocina', 10), ('Urbana', 11), (')', 12), ('LIGA', 13), ('es', 14)]\n"
     ]
    }
   ],
   "source": [
    "new_tweets = open(tweets_limpio_test,'w+',encoding='utf-8')\n",
    "\n",
    "# Expresión regular para validar usuarios de twitter\n",
    "twitter_username_re = re.compile(r'@([A-Za-z0-9_]+)')\n",
    "\n",
    "with open(texto_tmp,'r', encoding='utf-8') as file:\n",
    "    for line in file:\n",
    "        sentence =line.split(' ')\n",
    "        for token in range(len(sentence)):\n",
    "            sentence[token] = repetitions(sentence[token])\n",
    "            # cambiar un nombre de usuario o una URL por otro token que los identifique\n",
    "            if sentence[token].find('@') != -1:\n",
    "                if re.match(twitter_username_re, sentence[token]):\n",
    "                    sentence[token] = 'USUARIO'\n",
    "            elif sentence[token].find('http') != -1:\n",
    "                sentence[token] = 'LIGA'\n",
    "                \n",
    "        new_tweets.write(' '.join(sentence))\n",
    "        print((reverseArr))\n",
    "        n_tweet = list(enumerate(word_tokenize(' '.join(sentence))))        \n",
    "        reverseArr = [x[::-1] for x in n_tweet]\n",
    "        print((reverseArr))\n",
    "        print()\n",
    "        #tweets.append(list(enumerate(sentence)))\n",
    "        #print(sentence)\n",
    "        #print(' '.join(sentence))\n",
    "        #print()\n",
    "        #print(sentence)\n",
    "        #tmjk = set(sentence)\n",
    "        #print(tmjk)\n",
    "        #print(reverseArr)\n",
    "        #new_dict = dict([[v,k] for k,v in dict(Counter(reverseArr)).items()])\n",
    "        #print(new_dict)\n",
    "        #print(new_dict[max(new_dict)])\n",
    "        #print()\n",
    "        #print(list(enumerate(sentence)))\n",
    "        #dict_tweet = clean_tweet(sentence)        \n",
    "        #print(dict_tweet)\n",
    "        \n",
    "\n",
    "new_tweets.close()"
   ]
  },
  {
   "cell_type": "code",
   "execution_count": null,
   "metadata": {
    "collapsed": true,
    "deletable": true,
    "editable": true
   },
   "outputs": [],
   "source": [
    "acc = ['USUARIO', 'cuando', 'van', 'a', 'regresar', 'el', 'paquete', 'perdido', 'de', 'nuestros', 'amigos', 'USUARIO', 'USUARIO', 'es\\n']"
   ]
  },
  {
   "cell_type": "code",
   "execution_count": null,
   "metadata": {
    "collapsed": false
   },
   "outputs": [],
   "source": [
    "acc"
   ]
  },
  {
   "cell_type": "code",
   "execution_count": null,
   "metadata": {
    "collapsed": true
   },
   "outputs": [],
   "source": [
    "acc."
   ]
  }
 ],
 "metadata": {
  "kernelspec": {
   "display_name": "Python 3",
   "language": "python",
   "name": "python3"
  },
  "language_info": {
   "codemirror_mode": {
    "name": "ipython",
    "version": 3
   },
   "file_extension": ".py",
   "mimetype": "text/x-python",
   "name": "python",
   "nbconvert_exporter": "python",
   "pygments_lexer": "ipython3",
   "version": "3.5.2+"
  }
 },
 "nbformat": 4,
 "nbformat_minor": 2
}
