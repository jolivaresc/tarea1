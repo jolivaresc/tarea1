{
 "cells": [
  {
   "cell_type": "code",
   "execution_count": 11,
   "metadata": {
    "collapsed": true,
    "deletable": true,
    "editable": true
   },
   "outputs": [],
   "source": [
    "#from nltk.tokenize import word_tokenize\n",
    "#from collections import Counter\n",
    "import re"
   ]
  },
  {
   "cell_type": "code",
   "execution_count": 19,
   "metadata": {
    "collapsed": false,
    "deletable": true,
    "editable": true
   },
   "outputs": [
    {
     "name": "stdout",
     "output_type": "stream",
     "text": [
      "USUARIO revisen este caso donde USUARIO pierde un paquete de USUARIO USUARIO y no ha dado respuesta #estafetaNoCumple es\n",
      "\n",
      "#cem2017  #Bundesliga Sale a la luz la inexperiencia de Delfina, Lee el articulo y comparte LIGA es\n",
      "\n",
      "¿Eres pendejo o te haces? Ni siquiera en ese caso tienes derecho a matar a un hombre desarmado y tirado en el piso LIGA es\n",
      "\n",
      "En el #Foro #Tecnología #Voluntariado y #Fondos para el #Desarrollo representando a #Fundación… LIGA es\n",
      "\n",
      "Mayo 13 1911. Las fuerzas revolucionarias de Emiliano Zapata inician el ataque y sitio de Cuautla LIGA es\n",
      "\n",
      "Pre festejo del uno USUARIO  gracias caliño mío!! Me encantó la sorpresa #LoveMyFamily 😘😘😘 LIGA es\n",
      "\n",
      "Hoy hace 14 años murió Antonio González Caballero.- USUARIO A la memoria... LIGA es\n",
      "\n",
      "Tempranillo pa' que salga rápido! 😎 (@ Print It! in Ciudad de México) LIGA es\n",
      "\n",
      "#HarryStylesConExa Quiero enserio, quiero verlo por favor, regalenme un boleto. ❤🙇🙇 caracterDeSaltoDeLínea #HarryStylesMexico USUARIO  caracterDeSaltoDeLínea (52)5543207368 es\n",
      "\n",
      "I'm at Mega Comercial Mexicana - USUARIO in Benito Juárez, DF LIGA es\n",
      "\n",
      "Pronóstico de #LluviaQro para la tarde - noche de hoy sabado caracterDeSaltoDeLínea 🌧 caracterDeSaltoDeLínea USUARIO USUARIO USUARIO LIGA es\n",
      "\n",
      "Cuando mi mamá me ve y no estoy crudo. LIGA es\n",
      "\n",
      "USUARIO Gracias se toma su denuncia así como se realiza la investigación correspondiente de estos hechos... #AsuntosInternos es\n",
      "\n",
      "A estudiar, a ponernos las pilas LIGA es\n",
      "\n",
      "Se reúne Gobernador con titulares de CEAV y Derechos Humanos de la #ONU LIGA .@fgcabezadevaca… LIGA es\n"
     ]
    }
   ],
   "source": [
    "texto_tmp = \"temp.txt\"\n",
    "texto = ''\n",
    "\n",
    "tweets_limpio = \"new_tweets.txt\"\n",
    "\n",
    "new_tweets = open(tweets_limpio,'a+',encoding='utf-8')\n",
    "\n",
    "twitter_username_re = re.compile(r'@([A-Za-z0-9_]+)')\n",
    "\n",
    "with open(texto_tmp,'r', encoding='utf-8') as file:\n",
    "    for line in file:\n",
    "        #print(line)\n",
    "        sentence =line.split(' ')\n",
    "        for token in range(len(sentence)):\n",
    "            if sentence[token].find('@') != -1:\n",
    "                if re.match(twitter_username_re, sentence[token]):\n",
    "                    sentence[token] = 'USUARIO'\n",
    "            elif sentence[token].find('http') != -1:\n",
    "                sentence[token] = 'LIGA'\n",
    "                \n",
    "        print(' '.join(sentence))\n",
    "        #new_tweets.write(' '.join(sentence))\n",
    "        #tweets.append(list(enumerate(sentence)))\n",
    "        #print(list(enumerate(sentence)))        \n",
    "\n",
    "new_tweets.close()\n",
    "    "
   ]
  }
 ],
 "metadata": {
  "kernelspec": {
   "display_name": "Python 3",
   "language": "python",
   "name": "python3"
  },
  "language_info": {
   "codemirror_mode": {
    "name": "ipython",
    "version": 3
   },
   "file_extension": ".py",
   "mimetype": "text/x-python",
   "name": "python",
   "nbconvert_exporter": "python",
   "pygments_lexer": "ipython3",
   "version": "3.5.2+"
  }
 },
 "nbformat": 4,
 "nbformat_minor": 2
}
