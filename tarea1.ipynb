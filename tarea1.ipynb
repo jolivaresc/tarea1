{
 "cells": [
  {
   "cell_type": "code",
   "execution_count": 1,
   "metadata": {
    "collapsed": true,
    "deletable": true,
    "editable": true
   },
   "outputs": [],
   "source": [
    "import re\n",
    "from nltk import word_tokenize"
   ]
  },
  {
   "cell_type": "markdown",
   "metadata": {},
   "source": [
    "## Función `regex_repetitions(string)`\n",
    "\n",
    "Recibe como parámetro un string y determina el número de repeticiones que hay dentro de un `string` utilizando una expresión regular. \n",
    "\n",
    "\n",
    "Por ejemplo, con el string `hoooooolaaaa`:\n",
    "\n",
    "Primero se debe hacer un casting a una lista para que guarde todas las repeticiones que encontró\n",
    "```python\n",
    "list(regex_repetitions('hoooooolaaaa'))\n",
    "```\n",
    "\n",
    "\n",
    "nos retorna una lista con la letra repetida y cuántas veces se repite\n",
    "```python\n",
    "[('o', 6.0), ('a', 4.0)]\n",
    "```\n",
    "\n",
    "\n",
    "[Fuente](https://stackoverflow.com/questions/9079797/detect-repetitions-in-string)."
   ]
  },
  {
   "cell_type": "code",
   "execution_count": 11,
   "metadata": {
    "collapsed": false
   },
   "outputs": [
    {
     "data": {
      "text/plain": [
       "[('o', 6.0), ('a', 4.0)]"
      ]
     },
     "execution_count": 11,
     "metadata": {},
     "output_type": "execute_result"
    }
   ],
   "source": [
    "def regex_repetitions(string):\n",
    "   r = re.compile(r\"(.+?)\\1(.+?)\\1+\")\n",
    "   for match in r.finditer(string):\n",
    "       yield (match.group(1), len(match.group(0))/len(match.group(1)))\n",
    "    \n",
    "list(regex_repetitions('hoooooolaaaa'))"
   ]
  },
  {
   "cell_type": "markdown",
   "metadata": {},
   "source": [
    "## Función `repetitions(string)`\n",
    "\n",
    "Recibe un string como parámetro. Utiliza la función `regex_repetitions(string)` para determinar el número de repeticiones en el string.\n",
    "\n",
    "Y por cada repetición que encuentra es una tupla con el caracter repetido y el número de repeticiones, estos se usan para hacer un nuevo string.\n",
    "\n",
    "Por ejemplo, con el string hoooooolaaaa y retorna un nuevo string reducido:\n",
    "\n",
    "```python\n",
    "test = repetitions('hoooooolaaaa')\n",
    "print(test)\n",
    "```\n",
    "Resultado\n",
    "```python\n",
    "ho6la4\n",
    "```\n",
    "donde o6 indica que la letra 'o' se repite seis veces y a la 'a' cuatro veces."
   ]
  },
  {
   "cell_type": "code",
   "execution_count": 47,
   "metadata": {
    "collapsed": false
   },
   "outputs": [
    {
     "name": "stdout",
     "output_type": "stream",
     "text": [
      "ho6la4\n"
     ]
    }
   ],
   "source": [
    "def repetitions(string):\n",
    "    rept_list = list(regex_repetitions(string))\n",
    "    #new_string = string\n",
    "    for repetition in rept_list:\n",
    "        string = string.replace(\n",
    "                    repetition[0] * int(repetition[1]),\n",
    "                    repetition[0]\n",
    "                    +\n",
    "                    str(int(repetition[1])))\n",
    "    return string\n",
    "        \n",
    "\n",
    "test = repetitions('hoooooolaaaa')\n",
    "print(test)"
   ]
  },
  {
   "cell_type": "markdown",
   "metadata": {},
   "source": [
    "#### Archivos de trabajo. \n",
    "* Archivo con todos los tweets (`solo_espanol.txt`).\n",
    "* Se crea un archivo temporal con 50 tweets para pruebas (`temp.txt`).\n",
    "* Archivo con tweets cambiando algunos tokens como usuarios o ligas para no mostrarlos (`new_tweets.txt`)."
   ]
  },
  {
   "cell_type": "code",
   "execution_count": 48,
   "metadata": {
    "collapsed": true
   },
   "outputs": [],
   "source": [
    "texto_tmp = \"temp.txt\"\n",
    "texto = 'solo_espanol.txt'\n",
    "tweets_limpio = \"new_tweets.txt\""
   ]
  },
  {
   "cell_type": "code",
   "execution_count": 57,
   "metadata": {
    "collapsed": false,
    "deletable": true,
    "editable": true
   },
   "outputs": [],
   "source": [
    "new_tweets = open(tweets_limpio,'w+',encoding='utf-8')|\n",
    "\n",
    "# Expresión regular para validar usuarios de twitter\n",
    "twitter_username_re = re.compile(r'@([A-Za-z0-9_]+)')\n",
    "\n",
    "with open(texto,'r', encoding='utf-8') as file:\n",
    "    for line in file:\n",
    "        sentence =line.split(' ')\n",
    "        for token in range(len(sentence)):\n",
    "            sentence[token] = repetitions(sentence[token])\n",
    "            if sentence[token].find('@') != -1:\n",
    "                if re.match(twitter_username_re, sentence[token]):\n",
    "                    sentence[token] = 'USUARIO'\n",
    "            elif sentence[token].find('http') != -1:\n",
    "                sentence[token] = 'LIGA'\n",
    "                \n",
    "        #print(' '.join(sentence))\n",
    "        new_tweets.write(' '.join(sentence))\n",
    "        #tweets.append(list(enumerate(sentence)))\n",
    "        #print(list(enumerate(sentence)))\n",
    "        #print(sentence)\n",
    "        #print(list(enumerate(word_tokenize(' '.join(sentence)))))\n",
    "        #print()\n",
    "        #print(list(enumerate(sentence)))        \n",
    "\n",
    "new_tweets.close()\n",
    "    "
   ]
  },
  {
   "cell_type": "code",
   "execution_count": null,
   "metadata": {
    "collapsed": true
   },
   "outputs": [],
   "source": []
  }
 ],
 "metadata": {
  "kernelspec": {
   "display_name": "Python 3",
   "language": "python",
   "name": "python3"
  },
  "language_info": {
   "codemirror_mode": {
    "name": "ipython",
    "version": 3
   },
   "file_extension": ".py",
   "mimetype": "text/x-python",
   "name": "python",
   "nbconvert_exporter": "python",
   "pygments_lexer": "ipython3",
   "version": "3.5.2+"
  }
 },
 "nbformat": 4,
 "nbformat_minor": 2
}
